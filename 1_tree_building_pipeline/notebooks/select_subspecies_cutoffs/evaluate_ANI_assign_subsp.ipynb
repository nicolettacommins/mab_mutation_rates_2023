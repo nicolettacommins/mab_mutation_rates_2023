{
 "cells": [
  {
   "cell_type": "code",
   "execution_count": 4,
   "metadata": {},
   "outputs": [
    {
     "data": {
      "text/html": [
       "<style>.container { width:100% !important; }</style>"
      ],
      "text/plain": [
       "<IPython.core.display.HTML object>"
      ]
     },
     "metadata": {},
     "output_type": "display_data"
    }
   ],
   "source": [
    "from IPython.core.display import display, HTML\n",
    "display(HTML(\"<style>.container { width:100% !important; }</style>\"))"
   ]
  },
  {
   "cell_type": "code",
   "execution_count": 5,
   "metadata": {},
   "outputs": [],
   "source": [
    "import os\n",
    "import pandas as pd\n",
    "import matplotlib.pyplot as plt\n",
    "import numpy as np"
   ]
  },
  {
   "cell_type": "code",
   "execution_count": 6,
   "metadata": {},
   "outputs": [
    {
     "name": "stdout",
     "output_type": "stream",
     "text": [
      "Traceback (most recent call last):\r\n",
      "  File \"../../bin/parse_fastANI.py\", line 15, in <module>\r\n",
      "    files=os.listdir(args.fastANI_dir)\r\n",
      "FileNotFoundError: [Errno 2] No such file or directory: 'fastANI_out'\r\n"
     ]
    }
   ],
   "source": [
    "# After running fastANI, run script to collect the output into one file:\n",
    "!python3 ../../bin/parse_fastANI.py fastANI_out fastANI_eval_20191125.txt fastANI_failed_20191125.txt"
   ]
  },
  {
   "cell_type": "code",
   "execution_count": 7,
   "metadata": {},
   "outputs": [],
   "source": [
    "fastani_out=pd.read_csv('fastANI_eval_20191125.txt', sep='\\t', index_col='sample')"
   ]
  },
  {
   "cell_type": "code",
   "execution_count": 8,
   "metadata": {},
   "outputs": [
    {
     "data": {
      "text/html": [
       "<div>\n",
       "<style scoped>\n",
       "    .dataframe tbody tr th:only-of-type {\n",
       "        vertical-align: middle;\n",
       "    }\n",
       "\n",
       "    .dataframe tbody tr th {\n",
       "        vertical-align: top;\n",
       "    }\n",
       "\n",
       "    .dataframe thead th {\n",
       "        text-align: right;\n",
       "    }\n",
       "</style>\n",
       "<table border=\"1\" class=\"dataframe\">\n",
       "  <thead>\n",
       "    <tr style=\"text-align: right;\">\n",
       "      <th></th>\n",
       "      <th>GCF_000069185.1</th>\n",
       "      <th>GCF_000497265.2</th>\n",
       "      <th>GCF_003609715.1</th>\n",
       "    </tr>\n",
       "    <tr>\n",
       "      <th>sample</th>\n",
       "      <th></th>\n",
       "      <th></th>\n",
       "      <th></th>\n",
       "    </tr>\n",
       "  </thead>\n",
       "  <tbody>\n",
       "    <tr>\n",
       "      <th>SAMEA2275760</th>\n",
       "      <td>99.9589</td>\n",
       "      <td>96.8597</td>\n",
       "      <td>97.2039</td>\n",
       "    </tr>\n",
       "    <tr>\n",
       "      <th>SAMEA2070161</th>\n",
       "      <td>99.1752</td>\n",
       "      <td>96.8688</td>\n",
       "      <td>97.1003</td>\n",
       "    </tr>\n",
       "    <tr>\n",
       "      <th>SAMEA1464876</th>\n",
       "      <td>99.2234</td>\n",
       "      <td>96.9201</td>\n",
       "      <td>97.1350</td>\n",
       "    </tr>\n",
       "    <tr>\n",
       "      <th>SAMEA2275819</th>\n",
       "      <td>97.3361</td>\n",
       "      <td>98.5784</td>\n",
       "      <td>96.7592</td>\n",
       "    </tr>\n",
       "    <tr>\n",
       "      <th>SAMEA2275661</th>\n",
       "      <td>97.0505</td>\n",
       "      <td>98.6411</td>\n",
       "      <td>96.6734</td>\n",
       "    </tr>\n",
       "  </tbody>\n",
       "</table>\n",
       "</div>"
      ],
      "text/plain": [
       "              GCF_000069185.1  GCF_000497265.2  GCF_003609715.1\n",
       "sample                                                         \n",
       "SAMEA2275760          99.9589          96.8597          97.2039\n",
       "SAMEA2070161          99.1752          96.8688          97.1003\n",
       "SAMEA1464876          99.2234          96.9201          97.1350\n",
       "SAMEA2275819          97.3361          98.5784          96.7592\n",
       "SAMEA2275661          97.0505          98.6411          96.6734"
      ]
     },
     "execution_count": 8,
     "metadata": {},
     "output_type": "execute_result"
    }
   ],
   "source": [
    "fastani_out.head(5)"
   ]
  },
  {
   "cell_type": "markdown",
   "metadata": {},
   "source": [
    "## look at MAB ANI"
   ]
  },
  {
   "cell_type": "code",
   "execution_count": 10,
   "metadata": {},
   "outputs": [
    {
     "data": {
      "text/plain": [
       "Text(0.5, 0, 'ANI (%)')"
      ]
     },
     "execution_count": 10,
     "metadata": {},
     "output_type": "execute_result"
    },
    {
     "data": {
      "image/png": "[encoded data removed]",
      "text/plain": [
       "<Figure size 432x288 with 1 Axes>"
      ]
     },
     "metadata": {
      "needs_background": "light"
     },
     "output_type": "display_data"
    }
   ],
   "source": [
    "plt.hist(fastani_out['GCF_000069185.1'], range=(94,100), bins=100, label='mab')\n",
    "plt.suptitle('ANI with M. abscessus subsp. abscessus reference')\n",
    "plt.xlabel('ANI (%)')"
   ]
  },
  {
   "cell_type": "markdown",
   "metadata": {},
   "source": [
    "## look at MAS ANI"
   ]
  },
  {
   "cell_type": "code",
   "execution_count": 11,
   "metadata": {},
   "outputs": [
    {
     "data": {
      "text/plain": [
       "Text(0.5, 0, 'ANI (%)')"
      ]
     },
     "execution_count": 11,
     "metadata": {},
     "output_type": "execute_result"
    },
    {
     "data": {
      "image/png": "[encoded data removed]",
      "text/plain": [
       "<Figure size 432x288 with 1 Axes>"
      ]
     },
     "metadata": {
      "needs_background": "light"
     },
     "output_type": "display_data"
    }
   ],
   "source": [
    "plt.hist(fastani_out['GCF_000497265.2'], range=(95,100), bins=1000)\n",
    "plt.suptitle('ANI with M. abscessus subsp. massiliense reference')\n",
    "plt.xlabel('ANI (%)')"
   ]
  },
  {
   "cell_type": "markdown",
   "metadata": {},
   "source": [
    "## look at BOL ANI"
   ]
  },
  {
   "cell_type": "code",
   "execution_count": 12,
   "metadata": {},
   "outputs": [
    {
     "data": {
      "text/plain": [
       "Text(0.5, 0, 'ANI (%)')"
      ]
     },
     "execution_count": 12,
     "metadata": {},
     "output_type": "execute_result"
    },
    {
     "data": {
      "image/png": "[encoded data removed]",
      "text/plain": [
       "<Figure size 432x288 with 1 Axes>"
      ]
     },
     "metadata": {
      "needs_background": "light"
     },
     "output_type": "display_data"
    }
   ],
   "source": [
    "plt.hist(fastani_out['GCF_003609715.1'], range=(95,100),bins=1000)\n",
    "plt.suptitle('ANI with M. abscessus subsp. bolletii reference')\n",
    "plt.xlabel('ANI (%)')"
   ]
  },
  {
   "cell_type": "markdown",
   "metadata": {},
   "source": [
    "### Roughly how many samples do I expect per subspecies based on the literature?"
   ]
  },
  {
   "cell_type": "code",
   "execution_count": 13,
   "metadata": {},
   "outputs": [
    {
     "data": {
      "text/plain": [
       "128.0"
      ]
     },
     "execution_count": 13,
     "metadata": {},
     "output_type": "execute_result"
    }
   ],
   "source": [
    "# bol:\n",
    "\n",
    "1600*0.08"
   ]
  },
  {
   "cell_type": "code",
   "execution_count": 14,
   "metadata": {},
   "outputs": [
    {
     "data": {
      "text/plain": [
       "1088.0"
      ]
     },
     "execution_count": 14,
     "metadata": {},
     "output_type": "execute_result"
    }
   ],
   "source": [
    "# mab:\n",
    "1600*0.68\n"
   ]
  },
  {
   "cell_type": "code",
   "execution_count": 15,
   "metadata": {},
   "outputs": [
    {
     "data": {
      "text/plain": [
       "384.0"
      ]
     },
     "execution_count": 15,
     "metadata": {},
     "output_type": "execute_result"
    }
   ],
   "source": [
    "# mas\n",
    "1600*0.24"
   ]
  },
  {
   "cell_type": "code",
   "execution_count": 16,
   "metadata": {},
   "outputs": [],
   "source": [
    "## expect about 130 bol samples, 1000 mab samples, 400 mas samples"
   ]
  },
  {
   "cell_type": "markdown",
   "metadata": {},
   "source": [
    "## Try assigning every sample to the closest reference:"
   ]
  },
  {
   "cell_type": "code",
   "execution_count": 18,
   "metadata": {},
   "outputs": [],
   "source": [
    "fastani_out['max_ani'] = fastani_out.idxmax(axis=1)"
   ]
  },
  {
   "cell_type": "code",
   "execution_count": 19,
   "metadata": {},
   "outputs": [
    {
     "data": {
      "text/plain": [
       "GCF_000069185.1    910\n",
       "GCF_000497265.2    564\n",
       "GCF_003609715.1     98\n",
       "Name: max_ani, dtype: int64"
      ]
     },
     "execution_count": 19,
     "metadata": {},
     "output_type": "execute_result"
    }
   ],
   "source": [
    "fastani_out['max_ani'].value_counts()"
   ]
  },
  {
   "cell_type": "markdown",
   "metadata": {},
   "source": [
    "These values match about what I would expect. "
   ]
  },
  {
   "cell_type": "markdown",
   "metadata": {},
   "source": [
    "### Now let's plot a distribution of ANI scores relative to each reference genome, colored by the closest subspecies assignment:"
   ]
  },
  {
   "cell_type": "code",
   "execution_count": 20,
   "metadata": {},
   "outputs": [],
   "source": [
    "mab_hist=fastani_out[fastani_out['max_ani']=='GCF_000069185.1']\n",
    "mas_hist=fastani_out[fastani_out['max_ani']=='GCF_000497265.2']\n",
    "bol_hist=fastani_out[fastani_out['max_ani']=='GCF_003609715.1']"
   ]
  },
  {
   "cell_type": "code",
   "execution_count": 22,
   "metadata": {},
   "outputs": [
    {
     "data": {
      "text/plain": [
       "Text(0, 0.5, 'Number of samples')"
      ]
     },
     "execution_count": 22,
     "metadata": {},
     "output_type": "execute_result"
    },
    {
     "data": {
      "image/png": "[encoded data removed]",
      "text/plain": [
       "<Figure size 432x288 with 1 Axes>"
      ]
     },
     "metadata": {
      "needs_background": "light"
     },
     "output_type": "display_data"
    }
   ],
   "source": [
    "plt.hist(mab_hist['GCF_000069185.1'], range=(94,100), bins=100, label='mab')\n",
    "plt.hist(mas_hist['GCF_000069185.1'], range=(94,100), bins=100, label='mas')\n",
    "plt.hist(bol_hist['GCF_000069185.1'], range=(94,100), bins=100, label='bol')\n",
    "plt.legend(loc='upper left')\n",
    "plt.xlabel('ANI score relative to MAB reference')\n",
    "plt.ylabel('Number of samples')"
   ]
  },
  {
   "cell_type": "code",
   "execution_count": 27,
   "metadata": {},
   "outputs": [
    {
     "data": {
      "text/plain": [
       "Text(0.5, 0.98, 'ANI with MAS reference, by subsp assignment')"
      ]
     },
     "execution_count": 27,
     "metadata": {},
     "output_type": "execute_result"
    },
    {
     "data": {
      "image/png": "[encoded data removed]",
      "text/plain": [
       "<Figure size 432x288 with 1 Axes>"
      ]
     },
     "metadata": {
      "needs_background": "light"
     },
     "output_type": "display_data"
    }
   ],
   "source": [
    "plt.hist(mab_hist['GCF_000497265.2'], range=(94,100), bins=100, label='mab')\n",
    "plt.hist(mas_hist['GCF_000497265.2'], range=(94,100), bins=100, label='mas')\n",
    "plt.hist(bol_hist['GCF_000497265.2'], range=(94,100), bins=100, label='bol')\n",
    "plt.legend(loc='upper left')\n",
    "plt.xlabel('ANI score relative to MAS reference')\n",
    "plt.ylabel('Number of samples')"
   ]
  },
  {
   "cell_type": "code",
   "execution_count": 23,
   "metadata": {},
   "outputs": [
    {
     "data": {
      "text/plain": [
       "Text(0, 0.5, 'Number of samples')"
      ]
     },
     "execution_count": 23,
     "metadata": {},
     "output_type": "execute_result"
    },
    {
     "data": {
      "image/png": "[encoded data removed]",
      "text/plain": [
       "<Figure size 432x288 with 1 Axes>"
      ]
     },
     "metadata": {
      "needs_background": "light"
     },
     "output_type": "display_data"
    }
   ],
   "source": [
    "plt.hist(mab_hist['GCF_003609715.1'], range=(94,100), bins=100, label='mab')\n",
    "plt.hist(mas_hist['GCF_003609715.1'], range=(94,100), bins=100, label='mas')\n",
    "plt.hist(bol_hist['GCF_003609715.1'], range=(94,100), bins=100, label='bol')\n",
    "plt.legend(loc='upper left')\n",
    "plt.xlabel('ANI score relative to BOL reference')\n",
    "plt.ylabel('Number of samples')"
   ]
  },
  {
   "cell_type": "markdown",
   "metadata": {},
   "source": [
    "### examine cutoffs"
   ]
  },
  {
   "cell_type": "markdown",
   "metadata": {},
   "source": [
    "MAB:"
   ]
  },
  {
   "cell_type": "code",
   "execution_count": 29,
   "metadata": {},
   "outputs": [
    {
     "name": "stdout",
     "output_type": "stream",
     "text": [
      "99.9979\n",
      "97.2532\n"
     ]
    }
   ],
   "source": [
    "print(mab_hist['GCF_000069185.1'].max())\n",
    "print(mab_hist['GCF_000069185.1'].min())"
   ]
  },
  {
   "cell_type": "code",
   "execution_count": 31,
   "metadata": {},
   "outputs": [
    {
     "name": "stdout",
     "output_type": "stream",
     "text": [
      "97.63\n",
      "77.9567\n"
     ]
    }
   ],
   "source": [
    "print(mas_hist['GCF_000069185.1'].max())\n",
    "print(mas_hist['GCF_000069185.1'].min())"
   ]
  },
  {
   "cell_type": "code",
   "execution_count": 32,
   "metadata": {},
   "outputs": [
    {
     "name": "stdout",
     "output_type": "stream",
     "text": [
      "97.3531\n",
      "96.3536\n"
     ]
    }
   ],
   "source": [
    "print(bol_hist['GCF_000069185.1'].max())\n",
    "print(bol_hist['GCF_000069185.1'].min())"
   ]
  },
  {
   "cell_type": "markdown",
   "metadata": {},
   "source": [
    "MAS:"
   ]
  },
  {
   "cell_type": "code",
   "execution_count": 197,
   "metadata": {},
   "outputs": [
    {
     "name": "stdout",
     "output_type": "stream",
     "text": [
      "97.5696\n",
      "94.6587\n"
     ]
    }
   ],
   "source": [
    "print(mab_hist['GCF_000497265.2'].max())\n",
    "print(mab_hist['GCF_000497265.2'].min())"
   ]
  },
  {
   "cell_type": "code",
   "execution_count": 33,
   "metadata": {},
   "outputs": [
    {
     "name": "stdout",
     "output_type": "stream",
     "text": [
      "99.9393\n",
      "78.1277\n"
     ]
    }
   ],
   "source": [
    "print(mas_hist['GCF_000497265.2'].max())\n",
    "print(mas_hist['GCF_000497265.2'].min())"
   ]
  },
  {
   "cell_type": "code",
   "execution_count": 34,
   "metadata": {},
   "outputs": [
    {
     "name": "stdout",
     "output_type": "stream",
     "text": [
      "97.8451\n",
      "95.8961\n"
     ]
    }
   ],
   "source": [
    "print(bol_hist['GCF_000497265.2'].max())\n",
    "print(bol_hist['GCF_000497265.2'].min())"
   ]
  },
  {
   "cell_type": "markdown",
   "metadata": {},
   "source": [
    "BOL:"
   ]
  },
  {
   "cell_type": "code",
   "execution_count": 35,
   "metadata": {},
   "outputs": [
    {
     "name": "stdout",
     "output_type": "stream",
     "text": [
      "97.7267\n",
      "94.6587\n"
     ]
    }
   ],
   "source": [
    "print(mab_hist['GCF_003609715.1'].max())\n",
    "print(mab_hist['GCF_000497265.2'].min())"
   ]
  },
  {
   "cell_type": "code",
   "execution_count": 36,
   "metadata": {},
   "outputs": [
    {
     "name": "stdout",
     "output_type": "stream",
     "text": [
      "97.419\n",
      "78.1277\n"
     ]
    }
   ],
   "source": [
    "print(mas_hist['GCF_003609715.1'].max())\n",
    "print(mas_hist['GCF_000497265.2'].min())"
   ]
  },
  {
   "cell_type": "code",
   "execution_count": 37,
   "metadata": {},
   "outputs": [
    {
     "name": "stdout",
     "output_type": "stream",
     "text": [
      "99.3946\n",
      "95.8961\n"
     ]
    }
   ],
   "source": [
    "print(bol_hist['GCF_003609715.1'].max())\n",
    "print(bol_hist['GCF_000497265.2'].min())"
   ]
  },
  {
   "cell_type": "markdown",
   "metadata": {},
   "source": [
    "#### Based on these results we selected a subspecies threshold of 98% ANI with exactly one reference genome"
   ]
  },
  {
   "cell_type": "code",
   "execution_count": null,
   "metadata": {},
   "outputs": [],
   "source": []
  }
 ],
 "metadata": {
  "kernelspec": {
   "display_name": "Python 3",
   "language": "python",
   "name": "python3"
  },
  "language_info": {
   "codemirror_mode": {
    "name": "ipython",
    "version": 3
   },
   "file_extension": ".py",
   "mimetype": "text/x-python",
   "name": "python",
   "nbconvert_exporter": "python",
   "pygments_lexer": "ipython3",
   "version": "3.8.8"
  }
 },
 "nbformat": 4,
 "nbformat_minor": 2
}
