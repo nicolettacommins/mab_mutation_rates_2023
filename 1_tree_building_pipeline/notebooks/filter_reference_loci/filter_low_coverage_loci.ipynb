{
 "cells": [
  {
   "cell_type": "markdown",
   "metadata": {},
   "source": [
    "### Get all loci where >= 95% of the isolates in the dataset have coverage >=20x and convert to bed files"
   ]
  },
  {
   "cell_type": "markdown",
   "metadata": {},
   "source": [
    "#### writing a bed file: indexing\n",
    "\n",
    "from https://genome.ucsc.edu/FAQ/FAQformat.html:\n",
    "\"\"\"\n",
    "chromStart - The starting position of the feature in the chromosome or scaffold. The first base in a chromosome is numbered 0.\n",
    "chromEnd - The ending position of the feature in the chromosome or scaffold. The chromEnd base is not included in the display of the feature, however, the number in position format will be represented. For example, the first 100 bases of chromosome 1 are defined as chrom=1, chromStart=0, chromEnd=100, and span the bases numbered 0-99 in our software (not 0-100), but will represent the position notation chr1:1-100.\n",
    "\"\"\"\n",
    "\n",
    "so the first position will be 0 (same as python)\n",
    "\n",
    "from: https://software.broadinstitute.org/software/igv/BED\n",
    "\"\"\"\n",
    "Zero-based index: Start and end positions are identified using a zero-based index. The end position is excluded. For example, setting start-end to 1-2 describes exactly one base, the second base in the sequence.\n",
    "\"\"\""
   ]
  },
  {
   "cell_type": "code",
   "execution_count": 1,
   "metadata": {},
   "outputs": [
    {
     "data": {
      "text/html": [
       "<style>.container { width:100% !important; }</style>"
      ],
      "text/plain": [
       "<IPython.core.display.HTML object>"
      ]
     },
     "metadata": {},
     "output_type": "display_data"
    }
   ],
   "source": [
    "from IPython.core.display import display, HTML\n",
    "display(HTML(\"<style>.container { width:100% !important; }</style>\"))"
   ]
  },
  {
   "cell_type": "code",
   "execution_count": 1,
   "metadata": {},
   "outputs": [],
   "source": [
    "# import packages\n",
    "import pandas as pd\n",
    "import os\n",
    "import pickle\n",
    "import numpy as np\n",
    "import more_itertools as mit"
   ]
  },
  {
   "cell_type": "code",
   "execution_count": null,
   "metadata": {},
   "outputs": [],
   "source": [
    "#### I have a list of every sample I assigned to each subspecies. Now I want to get the depth files (output in 2_variant_calling rule 'calculate depth') for each subspecies and calculate the average depth. \n",
    "\n",
    "#!sbatch --mem 50G -t 0-12:00 -p short -o logs/depth_plot_mab.out -e logs/depth_plot_mab.err --wrap 'python3 ../../bin/depth_plot_mab.py'\n",
    "#!sbatch --mem 50G -t 0-12:00 -p short -o logs/depth_plot_mas.out -e logs/depth_plot_mas.err --wrap 'python3 ../../bin/depth_plot_mas.py'\n",
    "#!sbatch --mem 20G -t 0-12:00 -p short -o logs/depth_plot_bol.out -e logs/depth_plot_bol.err --wrap 'python ../../bin/depth_plot_bol.py'"
   ]
  },
  {
   "cell_type": "code",
   "execution_count": null,
   "metadata": {},
   "outputs": [],
   "source": [
    "def get_ranges(frac, thresh):\n",
    "    \"\"\"\n",
    "    args\n",
    "    frac: fraction of samples with depth > some minimum (in this case 20x)\n",
    "    thresh: threshold to include in the regions file\n",
    "    chrom: name to be used in the bedfile\n",
    "    \"\"\"\n",
    "    core=[ i for i in range(len(frac)) if frac[i] >= thresh]\n",
    "    for group in mit.consecutive_groups(core):\n",
    "        group = list(group)\n",
    "        yield group[0], group[-1]+1 #need to add one to the upper number to be consisent with bed file format\n",
    "        \n",
    "    "
   ]
  },
  {
   "cell_type": "markdown",
   "metadata": {},
   "source": [
    "#### Make MAB bed file:"
   ]
  },
  {
   "cell_type": "code",
   "execution_count": null,
   "metadata": {},
   "outputs": [],
   "source": [
    "# read in a list that contains the number of samples with depth >= 20x at each site in the genome\n",
    "with open('/depth_plots/mabdepth.data', 'rb') as filehandle:\n",
    "    mab_depth=pickle.load(filehandle)\n",
    "\n",
    "mab_depth_frac=[i/541 for i in mab_depth]\n",
    "\n",
    "with open('mab.bed', 'w') as f:\n",
    "    for r in get_ranges(mab_depth_frac, 0.95):\n",
    "        f.write('{}\\t{}\\t{}\\n'.format('NC_010397.1', r[0], r[1])) "
   ]
  },
  {
   "cell_type": "markdown",
   "metadata": {},
   "source": [
    "#### Make MAS bed file"
   ]
  },
  {
   "cell_type": "code",
   "execution_count": 14,
   "metadata": {},
   "outputs": [],
   "source": [
    "with open('/depth_plots/masdepth.data', 'rb') as filehandle:\n",
    "    mas_depth=pickle.load(filehandle)\n",
    "\n",
    "mas_depth_frac=[i/541 for i in mas_depth]\n",
    "\n",
    "with open('mas.bed', 'w') as f:\n",
    "    for r in get_ranges(mas_depth_frac, 0.95):\n",
    "        f.write('{}\\t{}\\t{}\\n'.format('NZ_AP014547.1', r[0], r[1])) "
   ]
  },
  {
   "cell_type": "markdown",
   "metadata": {},
   "source": [
    "#### Make BOL bed file"
   ]
  },
  {
   "cell_type": "code",
   "execution_count": null,
   "metadata": {},
   "outputs": [],
   "source": [
    "with open('/depth_plots/boldepth.data', 'rb') as filehandle:\n",
    "    bol_depth=pickle.load(filehandle)\n",
    "\n",
    "bol_depth_frac=[i/541 for i in bol_depth]\n",
    "\n",
    "with open('bol.bed', 'w') as f:\n",
    "    for r in get_ranges(bol_depth_frac, 0.95):\n",
    "        f.write('{}\\t{}\\t{}\\n'.format('NZ_AP018436.1', r[0], r[1])) "
   ]
  },
  {
   "cell_type": "code",
   "execution_count": null,
   "metadata": {},
   "outputs": [],
   "source": []
  }
 ],
 "metadata": {
  "kernelspec": {
   "display_name": "Python 3",
   "language": "python",
   "name": "python3"
  },
  "language_info": {
   "codemirror_mode": {
    "name": "ipython",
    "version": 3
   },
   "file_extension": ".py",
   "mimetype": "text/x-python",
   "name": "python",
   "nbconvert_exporter": "python",
   "pygments_lexer": "ipython3",
   "version": "3.8.8"
  }
 },
 "nbformat": 4,
 "nbformat_minor": 2
}
