{
 "cells": [
  {
   "cell_type": "code",
   "execution_count": 1,
   "metadata": {},
   "outputs": [
    {
     "data": {
      "text/html": [
       "<style>.container { width:100% !important; }</style>"
      ],
      "text/plain": [
       "<IPython.core.display.HTML object>"
      ]
     },
     "metadata": {},
     "output_type": "display_data"
    }
   ],
   "source": [
    "from IPython.core.display import display, HTML\n",
    "display(HTML(\"<style>.container { width:100% !important; }</style>\"))"
   ]
  },
  {
   "cell_type": "code",
   "execution_count": 2,
   "metadata": {},
   "outputs": [],
   "source": [
    "import numpy as np\n",
    "import more_itertools as mit\n",
    "import pickle"
   ]
  },
  {
   "cell_type": "markdown",
   "metadata": {},
   "source": [
    "# Calculate mappability "
   ]
  },
  {
   "cell_type": "markdown",
   "metadata": {},
   "source": [
    "### Create index"
   ]
  },
  {
   "cell_type": "code",
   "execution_count": 6,
   "metadata": {},
   "outputs": [
    {
     "name": "stdout",
     "output_type": "stream",
     "text": [
      "The index will now be built. This can take some time (e.g., 2-3 hours with Skew7 for the human genome).\n",
      "Create fwd Index ... done!\n",
      "Create bwd Index ... done!\n",
      "Index created successfully.\n"
     ]
    }
   ],
   "source": [
    "#!genmap index -F /Users/nicolettacommins/FarhatLab/abscessus/references/GCF_000069185.1/GCF_000069185.1.fna -I ./mappability/MAB_index/\n",
    "\n",
    "#!genmap index -F /Users/nicolettacommins/FarhatLab/abscessus/references/GCF_000497265.2/GCF_000497265.2.fna -I ./mappability/MAS_index/\n",
    "\n",
    "#!genmap index -F /Users/nicolettacommins/FarhatLab/abscessus/references/GCF_003609715.1/GCF_003609715.1.fna -I ./mappability/BOL_index/"
   ]
  },
  {
   "cell_type": "markdown",
   "metadata": {},
   "source": [
    "Map to GCF_000069185 using kmer size of 50 and # errors=2 (will try more parameters later):"
   ]
  },
  {
   "cell_type": "code",
   "execution_count": null,
   "metadata": {},
   "outputs": [],
   "source": [
    "!mkdir mappability/20200127_MAB_K50_E2\n",
    "!genmap map -K 50 -E 2 --reverse-complement -I mappability/GCF_000069185_index -O mappability/20200127_MAB_K50_E2 -t -w -b -v"
   ]
  },
  {
   "cell_type": "code",
   "execution_count": 8,
   "metadata": {},
   "outputs": [
    {
     "name": "stdout",
     "output_type": "stream",
     "text": [
      "mkdir: mappability/20200129_MAS_K50_E2: File exists\n",
      "Index was loaded (dna4 alphabet, sampling rate of 10).\n",
      "- The BWT is represented by 32 bit values.\n",
      "- The sampled suffix array is represented by pairs of 16 and 32 bit values.\n",
      "- Index was built on a single fasta file.\n",
      "Progress: 100.00%  \n",
      "Mappability computed in 9.21 seconds\n",
      "Start writing output files ...\n",
      "- TXT file written in 1.96 seconds\n",
      "- WIG file written in 0.01 seconds\n",
      "- BED file written in 0.01 seconds\n"
     ]
    }
   ],
   "source": [
    "!mkdir mappability/20200129_MAS_K50_E2\n",
    "!genmap map -K 50 -E 2 --reverse-complement -I mappability/MAS_index -O mappability/20200129_MAS_K50_E2 -t -w -b -v"
   ]
  },
  {
   "cell_type": "code",
   "execution_count": 9,
   "metadata": {},
   "outputs": [
    {
     "name": "stdout",
     "output_type": "stream",
     "text": [
      "Index was loaded (dna4 alphabet, sampling rate of 10).\n",
      "- The BWT is represented by 32 bit values.\n",
      "- The sampled suffix array is represented by pairs of 16 and 32 bit values.\n",
      "- Index was built on a single fasta file.\n",
      "Progress: 100.00%  \n",
      "Mappability computed in 10.31 seconds\n",
      "Start writing output files ...\n",
      "- TXT file written in 2.22 seconds\n",
      "- WIG file written in 0.01 seconds\n",
      "- BED file written in 0.01 seconds\n"
     ]
    }
   ],
   "source": [
    "!mkdir mappability/20200129_BOL_K50_E2\n",
    "!genmap map -K 50 -E 2 --reverse-complement -I mappability/BOL_index -O mappability/20200129_MAS_K50_E2 -t -w -b -v"
   ]
  },
  {
   "cell_type": "markdown",
   "metadata": {},
   "source": [
    "### calculate pileup mappability "
   ]
  },
  {
   "cell_type": "code",
   "execution_count": 3,
   "metadata": {},
   "outputs": [],
   "source": [
    "def Genmap_TXT_OutputParser(input_Genmap_Output_TXT_PATH, window_size):\n",
    "    \"\"\"\n",
    "    Function that parses the text output of Genmap and then returns two numpy arrays.\n",
    "    OUTPUT:\n",
    "    1) Mappability_Array: \n",
    "    2) Pileup_Mappability_Array: \n",
    "    \"\"\"\n",
    "    \n",
    "    with open(input_Genmap_Output_TXT_PATH, \"r\") as InputFile_Genmap_TXT:\n",
    "        Mappability_List = InputFile_Genmap_TXT.readlines()[1].split(\" \")\n",
    "        Mappability_Array = np.array(Mappability_List).astype(float)\n",
    "    \n",
    "    \n",
    "    Pileup_Mappability_Array = np.array( [ np.mean(Mappability_Array[i - (window_size): i ] ) for i in np.arange(window_size, len(Mappability_Array) - window_size ) ])    \n",
    "    \n",
    "    Pileup_Mappability_Array_PaddedEnds = np.concatenate([ np.full((window_size,), -1),\n",
    "                                                      Pileup_Mappability_Array,\n",
    "                                                      np.full((window_size,), -1) ])  \n",
    "    \n",
    "    return Mappability_Array, Pileup_Mappability_Array_PaddedEnds\n"
   ]
  },
  {
   "cell_type": "code",
   "execution_count": null,
   "metadata": {},
   "outputs": [],
   "source": [
    "# MAB:\n",
    "mab_mappability, mab_mappability_pileup = Genmap_TXT_OutputParser('mappability/20200127_MAB_K50_E2/GCF_000069185.1.genmap.txt', 50)\n",
    "mab_mappability_pileup=mab_mappability_pileup.tolist()\n",
    "with open('mappability/20200127_MAB_K50_E2/mappability_pileup/MAB_K50_E2_pileup', 'wb') as handle:\n",
    "    pickle.dump(mab_mappability_pileup, handle, protocol=pickle.HIGHEST_PROTOCOL)"
   ]
  },
  {
   "cell_type": "code",
   "execution_count": 11,
   "metadata": {},
   "outputs": [],
   "source": [
    "# MAB:\n",
    "mas_mappability, mas_mappability_pileup = Genmap_TXT_OutputParser('mappability/20200127_MAS_K50_E2/GCF_000497265.2.genmap.txt', 50)\n",
    "mas_mappability_pileup=mas_mappability_pileup.tolist()\n",
    "with open('mappability/20200127_MAS_K50_E2/mappability_pileup/MAB_K50_E2_pileup', 'wb') as handle:\n",
    "    pickle.dump(mas_mappability_pileup, handle, protocol=pickle.HIGHEST_PROTOCOL)"
   ]
  },
  {
   "cell_type": "code",
   "execution_count": 19,
   "metadata": {},
   "outputs": [
    {
     "data": {
      "text/plain": [
       "5067172"
      ]
     },
     "execution_count": 19,
     "metadata": {},
     "output_type": "execute_result"
    }
   ],
   "source": [
    "# MAB:\n",
    "bol_mappability, bol_mappability_pileup = Genmap_TXT_OutputParser('mappability/20200127_BOL_K50_E2/GCF_003609715.1.genmap.txt', 50)\n",
    "bol_mappability_pileup=bol_mappability_pileup.tolist()\n",
    "with open('mappability/20200127_BOL_K50_E2/mappability_pileup/BOL_K50_E2_pileup', 'wb') as handle:\n",
    "    pickle.dump(bol_mappability_pileup, handle, protocol=pickle.HIGHEST_PROTOCOL)"
   ]
  },
  {
   "cell_type": "markdown",
   "metadata": {},
   "source": [
    "### create a bed file containing all regions where mappability < 1"
   ]
  },
  {
   "cell_type": "code",
   "execution_count": 38,
   "metadata": {},
   "outputs": [],
   "source": [
    "def get_ranges_lessthan(frac, thresh):\n",
    "    \"\"\"\n",
    "    Function takes a list where each position is a base in the genome and each value is the fraction of samples \n",
    "    that meet some criterion (i.e. mapping quality <20); returns a ranges where LESS than some fraction (frac) \n",
    "    of the samples meet that criterion.\n",
    "    \"\"\"\n",
    "    core=[ i for i in range(len(frac)) if frac[i] < thresh]\n",
    "    for group in mit.consecutive_groups(core):\n",
    "        group = list(group)\n",
    "        yield group[0], group[-1]+1 #need to add one to the upper number to be consisent with bed file format"
   ]
  },
  {
   "cell_type": "markdown",
   "metadata": {},
   "source": [
    "now convert to bed_files:"
   ]
  },
  {
   "cell_type": "code",
   "execution_count": 23,
   "metadata": {},
   "outputs": [],
   "source": [
    "with open('mappability/20200127_MAB_K50_E2/mappability_pileup/MAB_K50_E2_pileup.bed', 'w') as f:\n",
    "    for r in get_ranges_lessthan(mab_mappability_pileup, 0.95):\n",
    "        f.write('{}\\t{}\\t{}\\n'.format('NC_010397.1', r[0], r[1]))\n",
    "\n",
    "with open('mappability/20200127_MAS_K50_E2/mappability_pileup/MAS_K50_E2_pileup.bed', 'w') as f:\n",
    "    for r in get_ranges_lessthan(mas_mappability_pileup, 0.95):\n",
    "        f.write('{}\\t{}\\t{}\\n'.format('NZ_AP014547.1', r[0], r[1]))  \n",
    "        \n",
    "with open('mappability/20200127_BOL_K50_E2/mappability_pileup/BOL_K50_E2_pileup.bed', 'w') as f:\n",
    "    for r in get_ranges_lessthan(bol_mappability_pileup, 0.95):\n",
    "        f.write('{}\\t{}\\t{}\\n'.format('NZ_AP018436.1', r[0], r[1])) "
   ]
  }
 ],
 "metadata": {
  "kernelspec": {
   "display_name": "Python 3",
   "language": "python",
   "name": "python3"
  },
  "language_info": {
   "codemirror_mode": {
    "name": "ipython",
    "version": 3
   },
   "file_extension": ".py",
   "mimetype": "text/x-python",
   "name": "python",
   "nbconvert_exporter": "python",
   "pygments_lexer": "ipython3",
   "version": "3.8.8"
  }
 },
 "nbformat": 4,
 "nbformat_minor": 4
}
