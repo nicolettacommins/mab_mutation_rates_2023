{
 "cells": [
  {
   "cell_type": "code",
   "execution_count": 1,
   "metadata": {},
   "outputs": [
    {
     "data": {
      "text/html": [
       "<style>.container { width:100% !important; }</style>"
      ],
      "text/plain": [
       "<IPython.core.display.HTML object>"
      ]
     },
     "metadata": {},
     "output_type": "display_data"
    }
   ],
   "source": [
    "from IPython.core.display import display, HTML\n",
    "display(HTML(\"<style>.container { width:100% !important; }</style>\"))"
   ]
  },
  {
   "cell_type": "markdown",
   "metadata": {},
   "source": [
    "#### Submit jobs to parse vcf files for mapping and base quality scores and calculate the number of isolates in our sample set that have quality scores <20 at each site:"
   ]
  },
  {
   "cell_type": "code",
   "execution_count": null,
   "metadata": {},
   "outputs": [],
   "source": [
    "!sbatch --mem 50G -t 2-00:00 -p medium -o logs/mab_mq_full_20200124.out -e logs/mab_mq_full_20200124.err --wrap 'python ./bin/parse_vcf_MQ.py ../../metadata/samples_passing_depth_filters/mab_pass_depth.txt 5067172 20 ./mapping_quality/mab_low_mq';\n",
    "\n",
    "!sbatch --mem 50G -t 0-12:00 -p short -o logs/mas_mq_full_20200124.out -e logs/mas_mq_full_20200124.err --wrap 'python ./bin/parse_vcf_MQ.py ../../metadata/samples_passing_depth_filters/mas_pass_depth.txt 4978382 20 ./mapping_quality/mas_low_mq';\n",
    "\n",
    "!sbatch --mem 50G -t 0-12:00 -p short -o logs/bol_mq_full_20200124.out -e logs/bol_mq_full_20200124.err --wrap 'python ./bin/parse_vcf_MQ.py ../../metadata/samples_passing_depth_filters/bol_pass_depth.txt 5080450 20 ./mapping_quality/bol_low_mq'"
   ]
  },
  {
   "cell_type": "code",
   "execution_count": null,
   "metadata": {},
   "outputs": [],
   "source": [
    "!sbatch --mem 50G -t 2-00:00 -p medium -o logs/mab_bq_full_20200124.out -e logs/mab_bq_full_20200124.err --wrap 'python -u ./bin/parse_vcf_BQ.py ../../metadata/samples_passing_depth_filters/mab_pass_depth.txt 5067172 20 ./mapping_quality/mab_low_bq';\n",
    "\n",
    "!sbatch --mem 50G -t 0-12:00 -p short -o logs/mas_bq_full_20200124.out -e logs/mas_bq_full_20200124.err --wrap 'python ./bin/parse_vcf_BQ.py ../../metadata/samples_passing_depth_filters/mas_pass_depth.txt 4978382 20 ./mapping_quality/mas_low_bq';\n",
    "\n",
    "!sbatch --mem 50G -t 0-12:00 -p short -o logs/bol_bq_full_20200124.out -e logs/bol_bq_full_20200124.err --wrap 'python ./bin/parse_vcf_BQ.py ../../metadata/samples_passing_depth_filters/bol_pass_depth.txt 5080450 20 ./mapping_quality/bol_low_bq'\n"
   ]
  },
  {
   "cell_type": "code",
   "execution_count": null,
   "metadata": {},
   "outputs": [],
   "source": []
  }
 ],
 "metadata": {
  "kernelspec": {
   "display_name": "Python 3",
   "language": "python",
   "name": "python3"
  },
  "language_info": {
   "codemirror_mode": {
    "name": "ipython",
    "version": 3
   },
   "file_extension": ".py",
   "mimetype": "text/x-python",
   "name": "python",
   "nbconvert_exporter": "python",
   "pygments_lexer": "ipython3",
   "version": "3.8.8"
  }
 },
 "nbformat": 4,
 "nbformat_minor": 4
}
