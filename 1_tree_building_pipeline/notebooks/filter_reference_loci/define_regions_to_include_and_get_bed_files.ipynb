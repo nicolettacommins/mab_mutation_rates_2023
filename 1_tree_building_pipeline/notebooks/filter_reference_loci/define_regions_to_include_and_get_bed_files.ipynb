{
 "cells": [
  {
   "cell_type": "markdown",
   "metadata": {},
   "source": [
    "### Here I take all the data I created on regions of low depth, low mappability, low BQ and low MQ, and creates a bed file of regions to keep. "
   ]
  },
  {
   "cell_type": "code",
   "execution_count": 1,
   "metadata": {},
   "outputs": [
    {
     "data": {
      "text/html": [
       "<style>.container { width:100% !important; }</style>"
      ],
      "text/plain": [
       "<IPython.core.display.HTML object>"
      ]
     },
     "metadata": {},
     "output_type": "display_data"
    }
   ],
   "source": [
    "from IPython.core.display import display, HTML\n",
    "display(HTML(\"<style>.container { width:100% !important; }</style>\"))"
   ]
  },
  {
   "cell_type": "code",
   "execution_count": 23,
   "metadata": {},
   "outputs": [],
   "source": [
    "import pickle\n",
    "import numpy as np\n",
    "import matplotlib.pyplot as plt\n",
    "from matplotlib_venn import venn2\n",
    "import more_itertools as mit"
   ]
  },
  {
   "cell_type": "code",
   "execution_count": 24,
   "metadata": {},
   "outputs": [],
   "source": [
    "def get_ranges(regions):\n",
    "    \"\"\"\n",
    "    Function takes a list of base positions, finds the groups, and returns the first \n",
    "    and last indices of each group in bed file format.\n",
    "    \"\"\"\n",
    "    for group in mit.consecutive_groups(regions):\n",
    "        group = list(group)\n",
    "        yield group[0], group[-1]+1 #need to add one to the upper number to be consisent with bed file format"
   ]
  },
  {
   "cell_type": "code",
   "execution_count": 30,
   "metadata": {},
   "outputs": [],
   "source": [
    "mab_dict={'name': 'mab',\n",
    "    'path_to_depth_plots': 'depth_plots/mabdepth.data',\n",
    "    'path_to_pileup': 'mappability/20200127_MAB_K50_E2/mappability_pileup/MAB_K50_E2_pileup',\n",
    "    'path_to_low_mq': 'mq_bq_parsing/mab_low_mq',\n",
    "    'path_to_low_bq': 'mq_bq_parsing/mab_low_bq', \n",
    "    'n_samples': 884,\n",
    "    'chrom_name': 'NC_010397.1'}\n",
    "\n",
    "mas_dict={'name': 'mas',\n",
    "    'path_to_depth_plots': 'depth_plots/masdepth_20191216.data',\n",
    "    'path_to_pileup': 'mappability/20200129_MAS_K50_E2/mappability_pileup/MAS_K50_E2_pileup',\n",
    "    'path_to_low_mq': 'mq_bq_parsing/mas_low_mq',\n",
    "    'path_to_low_bq': 'mq_bq_parsing/mas_low_bq', \n",
    "    'n_samples': 541, \n",
    "    'chrom_name': 'NZ_AP014547.1'}\n",
    "\n",
    "bol_dict={'name': 'bol',\n",
    "    'path_to_depth_plots': 'depth_plots/boldepth_20191216.data',\n",
    "    'path_to_pileup': 'mappability/20200129_BOL_K50_E2/mappability_pileup/BOL_K50_E2_pileup',\n",
    "    'path_to_low_mq': 'mq_bq_parsing/bol_low_mq',\n",
    "    'path_to_low_bq': 'mq_bq_parsing/bol_low_bq', \n",
    "    'n_samples': 91, \n",
    "    'chrom_name': 'NZ_AP018436.1'}"
   ]
  },
  {
   "cell_type": "code",
   "execution_count": 26,
   "metadata": {},
   "outputs": [],
   "source": [
    "def get_regions_file(subsp, outfile):\n",
    "\n",
    "    \"\"\"\n",
    "    Function takes metadata for each subspecies and returns a bed file of regions to include in phylogenetic analysis.\n",
    "    \"\"\"\n",
    "    \n",
    "    subsp_name=subsp['name']\n",
    "    path_to_depth_plots=subsp['path_to_depth_plots']\n",
    "    path_to_map_pileup=subsp['path_to_pileup']\n",
    "    path_to_low_mq=subsp['path_to_low_mq']\n",
    "    path_to_low_bq=subsp['path_to_low_bq']\n",
    "    n_samples=subsp['n_samples']\n",
    "    chrom_name=subsp['chrom_name']\n",
    "    \n",
    "    #define core genome:\n",
    "    with open(path_to_depth_plots, 'rb') as filehandle:\n",
    "        depth=pickle.load(filehandle)\n",
    "    frac=[i/n_samples for i in depth]\n",
    "    core=[ i for i in range(len(frac)) if frac[i] >= 0.95 ]\n",
    "    \n",
    "    # define areas with good mappability:\n",
    "    with open(path_to_map_pileup, 'rb') as handle:\n",
    "        pileup=pickle.load(handle)\n",
    "    map_okay=[ i for i in range(len(pileup)) if pileup[i] >= 0.95]\n",
    "    \n",
    "    #define areas with good MQ:\n",
    "    with open(path_to_low_mq, 'rb') as filehandle:\n",
    "        mq=pickle.load(filehandle)\n",
    "    mq_norm=[i/n_samples for i in mq]\n",
    "    mq_okay=[ i for i in range(len(mq_norm)) if mq_norm[i] <= 0.05]\n",
    "    \n",
    "    #define areas with good BQ:\n",
    "    with open(path_to_low_bq, 'rb') as filehandle:\n",
    "        bq=pickle.load(filehandle)\n",
    "    bq_norm=[i/n_samples for i in bq]\n",
    "    bq_okay=[ i for i in range(len(bq_norm)) if bq_norm[i] <= 0.05]\n",
    "\n",
    "    #define regions to keep:\n",
    "    regions_to_keep=set(core).intersection(set(mq_okay)).intersection(set(bq_okay)).intersection(set(map_okay))\n",
    "#     for r in get_ranges(regions_to_keep):\n",
    "#         print(r)\n",
    "    with open('regions_files/{}_{}_regions_to_keep.bed'.format(outfile, subsp_name), 'w') as f:\n",
    "        for r in get_ranges(regions_to_keep):\n",
    "            f.write('{}\\t{}\\t{}\\n'.format(chrom_name, r[0], r[1]))  "
   ]
  },
  {
   "cell_type": "code",
   "execution_count": 27,
   "metadata": {},
   "outputs": [],
   "source": [
    "get_regions_file(bol_dict, '20200131_K50_E2_t0.95')"
   ]
  },
  {
   "cell_type": "code",
   "execution_count": 31,
   "metadata": {},
   "outputs": [],
   "source": [
    "get_regions_file(mab_dict, '20200131_K50_E2_t0.95')\n",
    "get_regions_file(mas_dict, '20200131_K50_E2_t0.95')"
   ]
  }
 ],
 "metadata": {
  "kernelspec": {
   "display_name": "Python 3",
   "language": "python",
   "name": "python3"
  },
  "language_info": {
   "codemirror_mode": {
    "name": "ipython",
    "version": 3
   },
   "file_extension": ".py",
   "mimetype": "text/x-python",
   "name": "python",
   "nbconvert_exporter": "python",
   "pygments_lexer": "ipython3",
   "version": "3.8.8"
  }
 },
 "nbformat": 4,
 "nbformat_minor": 4
}
